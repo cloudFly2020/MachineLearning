{
 "cells": [
  {
   "cell_type": "code",
   "execution_count": 1,
   "metadata": {},
   "outputs": [],
   "source": [
    "import operator\n",
    "from math import log\n",
    "from collections import Counter\n",
    "import decisionTreePlot as dtPlot\n",
    "import numpy as np"
   ]
  },
  {
   "cell_type": "code",
   "execution_count": 2,
   "metadata": {},
   "outputs": [],
   "source": [
    "def createDataSet():\n",
    "    dataSet=[[1,1,'yes'],\n",
    "             [1,1,'yes'],\n",
    "             [1,0,'no'],\n",
    "             [0,1,'no'],\n",
    "             [1,0,'no']]\n",
    "    labels=['no surfacing','flipper']#字段名称\n",
    "    return dataSet,labels"
   ]
  },
  {
   "cell_type": "code",
   "execution_count": 3,
   "metadata": {},
   "outputs": [],
   "source": [
    "def majorityCnt(classList):\n",
    "    classCount={}\n",
    "    for vote in classList:\n",
    "        if vote not in classList:\n",
    "            classCote[vote]=0\n",
    "        classCount[vote]+=1\n",
    "    label=sorted(classCount.items(),key=operator.itemgetter(1),reverse=True)\n",
    "    return label[0][0]\n",
    "def majorityCnt2(classList):\n",
    "#     classCount={}\n",
    "#     for vote in classList:\n",
    "#         if vote not in classList:\n",
    "#             classCote[vote]=0\n",
    "#         classCount[vote]+=1\n",
    "    #label=Counter(classCount).most_common(1)[0][0] 2处错误\n",
    "    label=Counter(classList).most_common(1)[0]#使用collections.Counter可以统计各个标签的出现次数\n",
    "    return label"
   ]
  },
  {
   "cell_type": "code",
   "execution_count": 4,
   "metadata": {},
   "outputs": [],
   "source": [
    "def calcShannonEnt(dataSet):\n",
    "    labelCount={}\n",
    "    num=len(dataSet)\n",
    "    classList=[line[-1] for line in dataSet]\n",
    "    labelCount=dict(Counter(classList))\n",
    "    shannonEnt=0.0\n",
    "    #print(type(labelCount))\n",
    "    \n",
    "    for key in labelCount:\n",
    "        #print(labelCount[key])\n",
    "        #print(key)\n",
    "        prob=float(labelCount[key])/num\n",
    "        #print(prob)\n",
    "        shannonEnt-=prob*log(prob,2)\n",
    "        \n",
    "    return shannonEnt"
   ]
  },
  {
   "cell_type": "code",
   "execution_count": 5,
   "metadata": {},
   "outputs": [],
   "source": [
    "def splitDataSet(dataSet,index,value):\n",
    "    # 怎么划分？除去特征等于这个value那列 \n",
    "    subDataSet=[]\n",
    "    \n",
    "    #取出 index 列 不重复值\n",
    "    for featVec in dataSet:\n",
    "        if featVec[index]==value:\n",
    "            redSet=featVec[:index]\n",
    "            redSet.extend(featVec[index+1:])\n",
    "            subDataSet.append(redSet)\n",
    "    return subDataSet\n",
    "            "
   ]
  },
  {
   "cell_type": "code",
   "execution_count": 6,
   "metadata": {},
   "outputs": [
    {
     "name": "stdout",
     "output_type": "stream",
     "text": [
      "jjj {0, 1}\n",
      "ww 1\n",
      "ww 1\n",
      "ww 1\n",
      "ww 0\n",
      "ww 1\n",
      "ww 1\n",
      "ww 1\n",
      "ww 1\n",
      "ww 0\n",
      "ww 1\n",
      "[[1, 2], [1, 2], [1, 3], [0, 3], [0, 3]]\n",
      "5\n",
      "5\n"
     ]
    }
   ],
   "source": [
    "dataSet=[[1,1,2],\n",
    "             [1,1,3],\n",
    "             [1,0,3],\n",
    "             [0,1,2],\n",
    "             [1,0,3]]\n",
    "k=[]\n",
    "\n",
    "for i in range(1):\n",
    "    lists=[line[i] for line in dataSet]\n",
    "    print('jjj',set(lists))\n",
    "    unique=set(lists)\n",
    "    for value in unique:\n",
    "        for feat in dataSet:\n",
    "            print('ww',feat[i])\n",
    "            if feat[i]==value:\n",
    "                #print(feat[:i])\n",
    "                t=feat[:i]\n",
    "                t.extend(feat[i+1:])\n",
    "                k.append(t)\n",
    "print(k)\n",
    "print(len(k))\n",
    "print(len(dataSet))"
   ]
  },
  {
   "cell_type": "code",
   "execution_count": 7,
   "metadata": {},
   "outputs": [],
   "source": [
    "def chooseBestFeatureToSplit(dataSet):\n",
    "    numFeatures=len(dataSet[0])-1\n",
    "    #计算信息熵\n",
    "    baseEntropy=calcShannonEnt(dataSet)\n",
    "    bestInfoGain,bestFeature=0.0,-1\n",
    "    #featureList=\n",
    "    #unique=set()\n",
    "    #for feature in unique:\n",
    "    for i in range(numFeatures):            #############关键\n",
    "        # 获取每一个实例的第i+1个feature，组成list集合???? 怎么取特征列表 是取特征值列表 \n",
    "        # 获取对应的第i个feature下的所有数据\n",
    "        featureList=[line[i] for line in dataSet]\n",
    "        \n",
    "        unique=set(featureList)#特征唯一取值\n",
    "        print('unique',unique)\n",
    "        newEntropy=0.0\n",
    "        #第i个特征 每一唯一值划分一次数据集 计算一次熵值\n",
    "        for value in unique:\n",
    "            subDataSet=splitDataSet(dataSet,i,value)#某个特征取这个value的数据集\n",
    "            #prob=len(dataSet[i]==value)/len(dataSet)                            #数据集中 特征取某值的概率\n",
    "            prob=len(subDataSet)/len(dataSet) \n",
    "            newEntropy+=prob*calcShannonEnt(subDataSet)#######+=\n",
    "        infoGain=baseEntropy-newEntropy\n",
    "        print('infoGain',infoGain,'Feature',i)\n",
    "        if infoGain>bestInfoGain:\n",
    "            bestInfoGain=infoGain\n",
    "            bestFeature=i\n",
    "    return bestFeature"
   ]
  },
  {
   "cell_type": "code",
   "execution_count": 8,
   "metadata": {},
   "outputs": [],
   "source": [
    "def createTree(dataSet,labels):\n",
    "    classList=[line[-1] for line in dataSet]\n",
    "    #1 第一个停止条件 如果所有类别相同返回第一个类别\n",
    "    if classList.count(classList[0])==len(classList):\n",
    "        return classList[0]\n",
    "    #2 第二个停止条件 如果所有特征用完 没有分出唯一类别的分组 最初出现次数最多的一类作为结果\n",
    "    if len(classList[0])==1:\n",
    "        return majorityCnt(classList)\n",
    "    #3 选择信息增益最大的特征\n",
    "    bestFeat=chooseBestFeatureToSplit(dataSet)\n",
    "    # 获取最优特征的名称\n",
    "    bestFeatLabel=labels[bestFeat]\n",
    "    #初始化myTree \n",
    "    myTree={bestFeatLabel:{}}\n",
    "    #从特征名称列表 删除这个最优特征名称\n",
    "    del(labels[bestFeat])\n",
    "    #取出最优特征的值 及唯一值\n",
    "    featValues=[example[bestFeat] for example in dataSet]\n",
    "    unique=set(featValues)\n",
    "    for value in unique:\n",
    "        #求出剩余特征名称\n",
    "        subLabels=labels[:]\n",
    "        #遍历当前特征所有值 在每个数据集划分上递归调用函数creatTree(subDataSet,subLabels) 下面是dataSet 还没删除最优特征列\n",
    "        myTree[bestFeatLabel][value]=createTree(splitDataSet(dataSet,bestFeat,value),subLabels)\n",
    "    return myTree   "
   ]
  },
  {
   "cell_type": "code",
   "execution_count": 9,
   "metadata": {},
   "outputs": [],
   "source": [
    "def classify(inputTree,labels,test):\n",
    "    # 如何用决策树分类?\n",
    "    #获取根节点对应 的 key 通过key 获取value（整个第二个字典） 根据根节点的名称获取在labes中的index \n",
    "    #根据特征位置获取测试数据对应的value 由这个value 取对应在第二个字典的值\n",
    "    #firstFeat=inputTree[0]\n",
    "    firstFeat=list(inputTree.keys())[0]\n",
    "    secondDict=inputTree[firstFeat]\n",
    "    firstIndex=labels.index(firstFeat)\n",
    "    # 在测试数据中 找到根节点对应的label位置 也就知道从输入数据的第几位开始分类\n",
    "    key=test[firstIndex]#[1,1] 这里面的值决定第二个字典里的key\n",
    "    valueOfFeat=secondDict[key]\n",
    "    print('+++',firstFeat,'++',secondDict,'---',key,'>>》',valueOfFeat)\n",
    "    #判断第二个字典值是否是字典 如果是字典迭代classify 函数 否则 返回这个值\n",
    "    if isinstance(valueOfFeat,dict):\n",
    "        classLabel=classify(valueOfFeat,labels,test)\n",
    "    else:\n",
    "        classLabel=valueOfFeat\n",
    "    return classLabel"
   ]
  },
  {
   "cell_type": "code",
   "execution_count": 10,
   "metadata": {},
   "outputs": [],
   "source": [
    "def test():\n",
    "    #1.创建数据集和标签\n",
    "    dataSet,labels=createDataSet()\n",
    "    #2.创建树模型\n",
    "    import copy\n",
    "    myTree=createTree(dataSet,copy.deepcopy(labels))#{'no suffer':{0:'no',1:{'fippyer':{}}}}\n",
    "    #使用划分好的决策树\n",
    "    print(classify(myTree,labels,[1,1]))\n",
    "     # 画图可视化展现\n",
    "    dtPlot.createPlot(myTree)"
   ]
  },
  {
   "cell_type": "code",
   "execution_count": 14,
   "metadata": {},
   "outputs": [],
   "source": [
    "def ContactLensesTest():\n",
    "    fr=open('E:/github/MachineLearning/input/3.DecisionTree/lenses.txt')\n",
    "    file=[ line.strip().split('\\t') for line in fr.readlines()]\n",
    "    featureName=['age', 'prescript', 'astigmatic', 'tearRate']\n",
    "    lensesTree=createTree(file,featureName)\n",
    "    print(lensesTree)\n",
    "    dtPlot.createPlot(lensesTree)"
   ]
  },
  {
   "cell_type": "code",
   "execution_count": 12,
   "metadata": {},
   "outputs": [
    {
     "name": "stdout",
     "output_type": "stream",
     "text": [
      "unique {0, 1}\n",
      "infoGain 0.17095059445466854 Feature 0\n",
      "unique {0, 1}\n",
      "infoGain 0.4199730940219749 Feature 1\n",
      "unique {0, 1}\n",
      "infoGain 0.9182958340544896 Feature 0\n",
      "+++ flipper ++ {0: 'no', 1: {'no surfacing': {0: 'no', 1: 'yes'}}} --- 1 >>》 {'no surfacing': {0: 'no', 1: 'yes'}}\n",
      "+++ no surfacing ++ {0: 'no', 1: 'yes'} --- 1 >>》 yes\n",
      "yes\n"
     ]
    },
    {
     "data": {
      "image/png": "[encoded data removed]",
      "text/plain": [
       "<matplotlib.figure.Figure at 0x1f86d57c278>"
      ]
     },
     "metadata": {},
     "output_type": "display_data"
    }
   ],
   "source": [
    "if __name__=='__main__':\n",
    "    test()"
   ]
  },
  {
   "cell_type": "code",
   "execution_count": 15,
   "metadata": {},
   "outputs": [
    {
     "name": "stdout",
     "output_type": "stream",
     "text": [
      "unique {'pre', 'young', 'presbyopic'}\n",
      "infoGain 0.03939650364612124 Feature 0\n",
      "unique {'myope', 'hyper'}\n",
      "infoGain 0.039510835423565815 Feature 1\n",
      "unique {'yes', 'no'}\n",
      "infoGain 0.37700523001147723 Feature 2\n",
      "unique {'normal', 'reduced'}\n",
      "infoGain 0.5487949406953986 Feature 3\n",
      "unique {'pre', 'young', 'presbyopic'}\n",
      "infoGain 0.22125183600446618 Feature 0\n",
      "unique {'myope', 'hyper'}\n",
      "infoGain 0.09543725231055489 Feature 1\n",
      "unique {'yes', 'no'}\n",
      "infoGain 0.7704260414863776 Feature 2\n",
      "unique {'pre', 'young', 'presbyopic'}\n",
      "infoGain 0.2516291673878229 Feature 0\n",
      "unique {'myope', 'hyper'}\n",
      "infoGain 0.4591479170272448 Feature 1\n",
      "unique {'pre', 'young', 'presbyopic'}\n",
      "infoGain 0.9182958340544896 Feature 0\n",
      "unique {'pre', 'young', 'presbyopic'}\n",
      "infoGain 0.3166890883150208 Feature 0\n",
      "unique {'myope', 'hyper'}\n",
      "infoGain 0.19087450462110933 Feature 1\n",
      "unique {'myope', 'hyper'}\n",
      "infoGain 1.0 Feature 0\n",
      "{'tearRate': {'normal': {'astigmatic': {'yes': {'prescript': {'myope': 'hard', 'hyper': {'age': {'pre': 'no lenses', 'young': 'hard', 'presbyopic': 'no lenses'}}}}, 'no': {'age': {'pre': 'soft', 'young': 'soft', 'presbyopic': {'prescript': {'myope': 'no lenses', 'hyper': 'soft'}}}}}}, 'reduced': 'no lenses'}}\n"
     ]
    },
    {
     "data": {
      "image/png": "[encoded data removed]",
      "text/plain": [
       "<matplotlib.figure.Figure at 0x1f86d92e240>"
      ]
     },
     "metadata": {},
     "output_type": "display_data"
    }
   ],
   "source": [
    "ContactLensesTest()"
   ]
  },
  {
   "cell_type": "code",
   "execution_count": null,
   "metadata": {},
   "outputs": [],
   "source": []
  }
 ],
 "metadata": {
  "kernelspec": {
   "display_name": "Python 3",
   "language": "python",
   "name": "python3"
  },
  "language_info": {
   "codemirror_mode": {
    "name": "ipython",
    "version": 3
   },
   "file_extension": ".py",
   "mimetype": "text/x-python",
   "name": "python",
   "nbconvert_exporter": "python",
   "pygments_lexer": "ipython3",
   "version": "3.6.4"
  }
 },
 "nbformat": 4,
 "nbformat_minor": 2
}
