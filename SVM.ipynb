{
 "cells": [
  {
   "cell_type": "code",
   "execution_count": 1,
   "metadata": {},
   "outputs": [],
   "source": [
    "import numpy as np\n",
    "import pandas as pd\n",
    "from collections import Counter"
   ]
  },
  {
   "cell_type": "code",
   "execution_count": null,
   "metadata": {},
   "outputs": [],
   "source": []
  },
  {
   "cell_type": "code",
   "execution_count": 3,
   "metadata": {},
   "outputs": [],
   "source": [
    "def loadData(path):\n",
    "    '''\n",
    "    desc:\n",
    "        加载数据\n",
    "    param:\n",
    "        path \n",
    "    return:\n",
    "        dataArr labels\n",
    "    '''\n",
    "    fr=open(path)\n",
    "    dataArr=[]\n",
    "    labels=[]\n",
    "    for line in fr.readlines():\n",
    "        lineStr=line.strip().split('\\t')\n",
    "        dataArr.append([float(lineStr[i]) for i in range(len(lineStr)-1)])\n",
    "        labels.append(int(lineStr[-1]))\n",
    "    return dataArr,labels"
   ]
  },
  {
   "cell_type": "code",
   "execution_count": null,
   "metadata": {},
   "outputs": [],
   "source": [
    "def smoSimple(dataArr,labels,C,toler,maxIter):\n",
    "    '''\n",
    "    Args:\n",
    "        dataArr labels 载入的数据\n",
    "        C 松弛变量 允许有些变量处于错误的一侧\n",
    "        toler 容错率\n",
    "        maxIter 最大循环次数\n",
    "    return b alpha\n",
    "    '''\n",
    "    dataMatrix=np.mat(dataArr)\n",
    "    labelMat=np.mat(labels)\n",
    "    m,n=np.shape(dataMatrix)\n",
    "    b=0\n",
    "    alpha=np.zeros((m,1))\n",
    "    iter=0\n",
    "    "
   ]
  },
  {
   "cell_type": "code",
   "execution_count": null,
   "metadata": {},
   "outputs": [],
   "source": [
    "def test():\n",
    "    #1 加载数据\n",
    "    dataArr,labels=loadData('E:/github/MachineLearning/input/6.SVM/testSet.txt')\n",
    "    #2 b常量 alpha拉格朗日乘子\n",
    "    b,alpha=smoSimple(dataArr,labels,)"
   ]
  },
  {
   "cell_type": "code",
   "execution_count": null,
   "metadata": {},
   "outputs": [],
   "source": [
    "if __name__=='__main__':\n",
    "    test()"
   ]
  }
 ],
 "metadata": {
  "kernelspec": {
   "display_name": "Python 3",
   "language": "python",
   "name": "python3"
  },
  "language_info": {
   "codemirror_mode": {
    "name": "ipython",
    "version": 3
   },
   "file_extension": ".py",
   "mimetype": "text/x-python",
   "name": "python",
   "nbconvert_exporter": "python",
   "pygments_lexer": "ipython3",
   "version": "3.6.4"
  }
 },
 "nbformat": 4,
 "nbformat_minor": 2
}
