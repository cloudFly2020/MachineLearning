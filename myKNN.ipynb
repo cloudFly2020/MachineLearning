{
 "cells": [
  {
   "cell_type": "code",
   "execution_count": 13,
   "metadata": {},
   "outputs": [],
   "source": [
    "import numpy as np\n",
    "import matplotlib.pyplot as plt\n",
    "import operator\n",
    "from os import listdir\n",
    "from collections import Counter\n",
    "\n",
    "#from matplotlib import ListedColormap\n",
    "from sklearn import neighbors,datasets"
   ]
  },
  {
   "cell_type": "code",
   "execution_count": 2,
   "metadata": {},
   "outputs": [
    {
     "name": "stdout",
     "output_type": "stream",
     "text": [
      "Automatically created module for IPython interactive environment\n"
     ]
    }
   ],
   "source": [
    "print(__doc__)"
   ]
  },
  {
   "cell_type": "code",
   "execution_count": 10,
   "metadata": {},
   "outputs": [],
   "source": [
    "def file2matrix(filename):\n",
    "    fr=open(filename,'r')\n",
    "    \n",
    "    readlines=fr.readlines()\n",
    "    #print(readlines)\n",
    "    #dataSize=np.shape(readlines)[0]\n",
    "    m=len(readlines)\n",
    "    #print(m)\n",
    "    trainMat=np.zeros((m,3))\n",
    "    #print(trainMat)\n",
    "    #print(type(trainMat))\n",
    "    trainLabels=[]\n",
    "    index=0\n",
    "    for line in readlines:\n",
    "        lineStr=line.strip()\n",
    "        lines=lineStr.split('\\t')\n",
    "        #print(lines)\n",
    "        trainMat[index,:]=lines[0:3]\n",
    "        trainLabels.append(int(lines[-1]))#int()\n",
    "        index+=1\n",
    "    #print(trainMat,'--',trainLabels)\n",
    "    return trainMat,trainLabels"
   ]
  },
  {
   "cell_type": "code",
   "execution_count": 4,
   "metadata": {},
   "outputs": [],
   "source": [
    "def autoNorm(dataSet):\n",
    "    #maxVals=np.max(dataSet[0])\n",
    "    #\n",
    "    minVals=dataSet.min(0)\n",
    "    maxVals=dataSet.max(0)\n",
    "    print(minVals)\n",
    "    ranges=maxVals-minVals\n",
    "    m=dataSet.shape[0]\n",
    "    normData=np.zeros(np.shape(dataSet))\n",
    "    #print(normData)\n",
    "    #print(normData2)\n",
    "    #print(type(normData))\n",
    "    #print(type(dataSet))\n",
    "    normDist=dataSet-np.tile(minVals,(m,1))\n",
    "    normData=normDist/np.tile(ranges,(m,1))#分子有时加括号\n",
    "    return normData,ranges,minVals"
   ]
  },
  {
   "cell_type": "code",
   "execution_count": 145,
   "metadata": {},
   "outputs": [],
   "source": [
    "def classify0(inX,trainMat,trainLabel,k):\n",
    "    #classifyResult=0\n",
    "    #1.算距离\n",
    "    m=trainMat.shape[0]\n",
    "    dataDist=np.tile(inX,(m,1))-trainMat\n",
    "    dist=np.sum(dataDist**2,axis=1)**0.5\n",
    "    #排序\n",
    "    sortedIndex=dist.argsort()\n",
    "    #2.找距离最近的k个点 统计 k个 各个分类的次数\n",
    "    classCount={}\n",
    "    for i in range(k):\n",
    "        labelIndex=sortedIndex[i]\n",
    "        label=trainLabel[labelIndex]\n",
    "        classCount[label]=classCount.get(label,0)+1\n",
    "    #3.取次数最多的\n",
    "    classifyResult=sorted(classCount.items(),key=operator.itemgetter(1),reverse=True)#classCount.items()\n",
    "    return classifyResult[0][0]\n",
    "def classify1(inX,trainData,labels,k):\n",
    "    m=trainData.shape[0]\n",
    "    \n",
    "    dist=np.sum((inX-trainData)**2,axis=1)**0.5\n",
    "    sortedIndex=dist.argsort()\n",
    "    k_label=[labels[sortedIndex[i]] for i in range(k)]\n",
    "    #k_label=[labels[index] for index in sortedIndex[0:k]]##忘了\n",
    "    label=Counter(k_label).most_common(1)[0][0]##################记错了\n",
    "    return label"
   ]
  },
  {
   "cell_type": "code",
   "execution_count": 6,
   "metadata": {},
   "outputs": [],
   "source": [
    "def datingTest():\n",
    "    #1.设置数据比例 加载训练数据\n",
    "    hoRatio=0.1\n",
    "    #trainFileList=os.listdir('E:/github/MachineLearning/input/2.KNN')\n",
    "    datingMat,datingLabels=file2matrix('E:/github/MachineLearning/input/2.KNN/datingTestSet2.txt')\n",
    "    #print(datingMat,datingLabels)\n",
    "    # 2.数据归一化\n",
    "    \n",
    "    normData,ranges,minVals=autoNorm(datingMat)\n",
    "    #print(normData)\n",
    "    # 3.分类\n",
    "    #testData=hoRatio*\n",
    "    m=datingMat.shape[0]\n",
    "    testLen=int(m*hoRatio)\n",
    "    errorCount=0\n",
    "    print('testLen',testLen)\n",
    "    for i in range(testLen):##################忘了       \n",
    "        classifierResult=classify1(normData[i],normData[testLen:m],datingLabels[testLen:m],3)###忘了\n",
    "        errorCount+=classifierResult !=datingLabels[i]\n",
    "        if classifierResult !=datingLabels[i]:\n",
    "            print(\"错误分类结果是 %d，本来的类别是 %d \"%(classifierResult,datingLabels[i]))\n",
    "        #print(\"分类结果是 %d，本来的类别是 %d \"%(classifierResult,datingLabels[i]))\n",
    "    print('error count' ,errorCount)\n",
    "    print('error ratio',errorCount/testLen)"
   ]
  },
  {
   "cell_type": "code",
   "execution_count": 7,
   "metadata": {},
   "outputs": [],
   "source": [
    "#使用算法\n",
    "def classifyPerson():\n",
    "    resultList=['not like','like litter','like most']\n",
    "    game=float(input('game is'))\n",
    "    diffMile=float(input('mile is'))\n",
    "    ice=float(input('ice is'))\n",
    "    inArr=[game,diffMile,ice]\n",
    "    \n",
    "    #1 载入训练数据\n",
    "    datingMat,labels=file2matrix('E:/github/MachineLearning/input/2.KNN/datingTestSet2.txt')\n",
    "    #2 归一化\n",
    "    normData,ranges,minVals=autoNorm(datingMat)\n",
    "    #m=normData.shape[0]\n",
    "    #3 分类\n",
    "    classifyResult=classify0((inArr-minVals)/ranges,normData,labels,3)\n",
    "    result=resultList[classifyResult-1]\n",
    "    return print(\"You will probably like this person: \", result)"
   ]
  },
  {
   "cell_type": "code",
   "execution_count": 8,
   "metadata": {},
   "outputs": [
    {
     "name": "stdout",
     "output_type": "stream",
     "text": [
      "1000\n",
      "<class 'numpy.ndarray'>\n",
      "[0.       0.       0.001156]\n",
      "testLen 100\n",
      "错误分类结果是 3，本来的类别是 2 \n",
      "错误分类结果是 3，本来的类别是 1 \n",
      "错误分类结果是 3，本来的类别是 1 \n",
      "错误分类结果是 2，本来的类别是 3 \n",
      "错误分类结果是 3，本来的类别是 1 \n",
      "error count 5\n",
      "error ratio 0.05\n"
     ]
    }
   ],
   "source": [
    "if __name__=='__main__':\n",
    "    #test1()\n",
    "    #datingTest()"
   ]
  },
  {
   "cell_type": "code",
   "execution_count": 9,
   "metadata": {},
   "outputs": [
    {
     "name": "stdout",
     "output_type": "stream",
     "text": [
      "game is10\n",
      "mile is3000\n",
      "ice is5\n",
      "1000\n",
      "<class 'numpy.ndarray'>\n",
      "[0.       0.       0.001156]\n",
      "You will probably like this person:  not like\n"
     ]
    }
   ],
   "source": [
    "classifyPerson()"
   ]
  },
  {
   "cell_type": "code",
   "execution_count": 123,
   "metadata": {},
   "outputs": [],
   "source": [
    "def img2vector(filename):\n",
    "    \n",
    "    #numberLine=fr.readlines()\n",
    "    returnVec=np.zeros((1,1024))###########1,1024\n",
    "    fr=open(filename)\n",
    "    for i in range(32):\n",
    "        lineStr=fr.readline()\n",
    "        #print(line)\n",
    "        for j in range(32):\n",
    "            returnVec[0,32*i+j]=int(lineStr[j])#########修改后下面调用地方重新执行\n",
    "            #trainData.append(trainData[0:32*i+j])\n",
    "            #print(line[j])\n",
    "            #returnVec[0,32*i+j]=int(line[j])           #############忘了\n",
    "            #####################本来0更多 不是0 就是1\n",
    "            #print(returnVec[0,32*i+j]==1)\n",
    "    #print(returnVec)\n",
    "    return returnVec"
   ]
  },
  {
   "cell_type": "code",
   "execution_count": 156,
   "metadata": {},
   "outputs": [],
   "source": [
    "def handwritingClassTest():\n",
    "    trainFileList=listdir('E:/github/MachineLearning/input/2.KNN/trainingDigits')\n",
    "    m=len(trainFileList)\n",
    "    trainMat=np.zeros((m,1024))\n",
    "    labels=[]\n",
    "    for i in range(m):#忘了\n",
    "        filename=trainFileList[i]#忘了\n",
    "        name=filename.split('.')[0]\n",
    "        #labels.append(name.split('_')[0])错误\n",
    "        classNum=int(name.split('_')[0]) # int 一定要\n",
    "        labels.append(classNum)\n",
    "        #print(labels)\n",
    "        trainMat[i]=img2vector('E:/github/MachineLearning/input/2.KNN/trainingDigits/%s'%filename)\n",
    "        #print(trainMat)\n",
    "    print('ok')\n",
    "    # 导入测试数据\n",
    "    testFileList=listdir('E:/github/MachineLearning/input/2.KNN/testDigits')\n",
    "    mTest=len(testFileList)\n",
    "    errorCount=0.0\n",
    "    for i in range(mTest):\n",
    "        filename=testFileList[i]\n",
    "        file=filename.split('.')[0]\n",
    "        testLabel=int(file.split('_')[0])\n",
    "        test=img2vector('E:/github/MachineLearning/input/2.KNN/testDigits/%s'% filename)\n",
    "        #print('test',test)    \n",
    "        classifierResult=classify0(test,trainMat,labels,3)#labels \n",
    "        #errorCount+=classifierResult!=testLabel\n",
    "        #print(type(classifierResult),type(testLabel))\n",
    "        #print(\"the classifier came back with: %d, the real answer is: %d\" % (classifierResult, testLabel))\n",
    "        #errorCount += classifierResult != testLabel\n",
    "        if classifierResult != testLabel:\n",
    "            errorCount+=1.0\n",
    "            print(\"the classifier came back with: %d, the real answer is: %d\" % (classifierResult, testLabel))\n",
    "\n",
    "    print('错误数',errorCount)        \n",
    "    print('error ratio %s '%(errorCount/mTest))#报错重写"
   ]
  },
  {
   "cell_type": "code",
   "execution_count": 157,
   "metadata": {},
   "outputs": [
    {
     "name": "stdout",
     "output_type": "stream",
     "text": [
      "ok\n",
      "the classifier came back with: 7, the real answer is: 1\n",
      "the classifier came back with: 9, the real answer is: 3\n",
      "the classifier came back with: 3, the real answer is: 5\n",
      "the classifier came back with: 6, the real answer is: 5\n",
      "the classifier came back with: 6, the real answer is: 8\n",
      "the classifier came back with: 3, the real answer is: 8\n",
      "the classifier came back with: 1, the real answer is: 8\n",
      "the classifier came back with: 1, the real answer is: 8\n",
      "the classifier came back with: 1, the real answer is: 9\n",
      "the classifier came back with: 7, the real answer is: 9\n",
      "错误数 10.0\n",
      "error ratio 0.010570824524312896 \n"
     ]
    }
   ],
   "source": [
    "handwritingClassTest()"
   ]
  },
  {
   "cell_type": "code",
   "execution_count": null,
   "metadata": {},
   "outputs": [],
   "source": []
  }
 ],
 "metadata": {
  "kernelspec": {
   "display_name": "Python 3",
   "language": "python",
   "name": "python3"
  },
  "language_info": {
   "codemirror_mode": {
    "name": "ipython",
    "version": 3
   },
   "file_extension": ".py",
   "mimetype": "text/x-python",
   "name": "python",
   "nbconvert_exporter": "python",
   "pygments_lexer": "ipython3",
   "version": "3.6.4"
  }
 },
 "nbformat": 4,
 "nbformat_minor": 2
}
